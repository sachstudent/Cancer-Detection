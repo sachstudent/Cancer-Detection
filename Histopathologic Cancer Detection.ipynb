{
 "cells": [
  {
   "cell_type": "code",
   "execution_count": null,
   "metadata": {},
   "outputs": [],
   "source": [
    "import keras\n",
    "from keras.layers import Conv2D, MaxPooling2D\n",
    "from keras.layers import Dense, Dropout, Flatten\n",
    "from keras.preprocessing import image\n",
    "from keras.models import Sequential\n",
    "import numpy as np\n",
    "import pandas as pd\n",
    "from skimage.io import imshow\n",
    "from skimage.io import imread\n",
    "import os"
   ]
  },
  {
   "cell_type": "code",
   "execution_count": null,
   "metadata": {},
   "outputs": [],
   "source": [
    "## Problem Description\n",
    "#The task at hand involves identifying metastatic cancer in small image patches \n",
    "#taken from larger digital pathology scans of lymph node sections. \n",
    "#Metastatic cancer occurs when cancer cells spread from the primary site (where the cancer started) \n",
    "#to other parts of the body. This task is of critical importance in the medical field, \n",
    "#as early detection of metastatic cancer can significantly improve patient outcomes.\n",
    "\n",
    "#This competition is a binary classification problem where the objective is to \n",
    "#predict whether a given image patch contains metastatic tissue. \n",
    "#The model must be able to differentiate between cancerous (labeled as '1') and non-cancerous (labeled as '0') \n",
    "#tissue with high accuracy.\n",
    "\n",
    "### Dataset Description\n",
    "#The dataset consists of thousands of 96x96 pixel images, each labeled with '1' or '0' \n",
    "#to indicate the presence or absence of metastatic cancer. The images are in `.tif` format and have been \n",
    "#extracted from whole-slide images of lymph node sections. Given the small size of the images, \n",
    "#each pixel's information is crucial for accurate classification.\n",
    "\n",
    "#The primary challenges of this dataset include:\n",
    "#There may be significantly fewer positive samples (cancerous) compared to negative samples.\n",
    "#The small size of each image (96x96 pixels) can make it difficult to identify subtle \n",
    "#patterns associated with cancer.\n",
    "#The images might exhibit high variability due to differences \n",
    "#in tissue preparation, staining, and scanning processes.\n",
    "\n",
    "#This project will involve a thorough exploration of the data, careful selection and tuning of machine \n",
    "#learning models, and a comprehensive evaluation of the model's performance.\n"
   ]
  },
  {
   "cell_type": "code",
   "execution_count": null,
   "metadata": {},
   "outputs": [],
   "source": [
    "train = pd.read_csv(\"../train_labels.csv\")\n",
    "train.head()\n",
    "print(\"# samples -->\" ,len(train))"
   ]
  },
  {
   "cell_type": "code",
   "execution_count": null,
   "metadata": {},
   "outputs": [],
   "source": [
    "def train_file(x):\n",
    "    file = '../train/'\n",
    "    path = file + x + '.tif'\n",
    "    return path"
   ]
  },
  {
   "cell_type": "code",
   "execution_count": null,
   "metadata": {},
   "outputs": [],
   "source": [
    "train['path'] = train['id'].apply(train_file)\n",
    "print(train['path'][0])"
   ]
  },
  {
   "cell_type": "code",
   "execution_count": null,
   "metadata": {},
   "outputs": [],
   "source": [
    "train['image'] = train['path'][0:215000].map(imread)\n",
    "print(imshow(train['image'][1]))"
   ]
  },
  {
   "cell_type": "code",
   "execution_count": null,
   "metadata": {},
   "outputs": [],
   "source": [
    "def crop(x):\n",
    "    return x[24:72, 24:72]\n",
    "train['image_crop'] = train['image'][0:215000].map(crop)\n",
    "print(\"Cropped image\" ,imshow(train['image_crop'][1]))\n",
    "print(\"Dimension:\" ,train['image'][0].shape)\n",
    "print(\"Dimension cropped:\" ,train['image_crop'][0].shape)"
   ]
  },
  {
   "cell_type": "code",
   "execution_count": null,
   "metadata": {},
   "outputs": [],
   "source": [
    "train = train.drop(['path'], axis=1)\n",
    "train = train.drop(['image'], axis=1)"
   ]
  },
  {
   "cell_type": "code",
   "execution_count": null,
   "metadata": {},
   "outputs": [],
   "source": [
    "import gc; \n",
    "gc.collect()"
   ]
  },
  {
   "cell_type": "code",
   "execution_count": null,
   "metadata": {},
   "outputs": [],
   "source": [
    "x_train = np.stack(list(train.image_crop.iloc[0:215000]), axis = 0)\n",
    "train = train.drop(['image_crop'], axis=1)"
   ]
  },
  {
   "cell_type": "code",
   "execution_count": null,
   "metadata": {},
   "outputs": [],
   "source": [
    "import gc; \n",
    "gc.collect()"
   ]
  },
  {
   "cell_type": "code",
   "execution_count": null,
   "metadata": {},
   "outputs": [],
   "source": [
    "x_train = x_train.astype('float32')\n",
    "x_train /= 255\n",
    "y_train = train['label'][0:215000]\n",
    "del train"
   ]
  },
  {
   "cell_type": "code",
   "execution_count": null,
   "metadata": {},
   "outputs": [],
   "source": [
    "import gc; \n",
    "gc.collect()"
   ]
  },
  {
   "cell_type": "code",
   "execution_count": null,
   "metadata": {},
   "outputs": [],
   "source": [
    "img_rows, img_cols = 48, 48\n",
    "input_shape = (img_rows, img_cols, 3)\n",
    "batch_size = 128\n",
    "epochs = 4"
   ]
  },
  {
   "cell_type": "code",
   "execution_count": null,
   "metadata": {},
   "outputs": [],
   "source": [
    "model = Sequential()\n",
    "model.add(Conv2D(256, kernel_size=(3, 3), activation='relu', input_shape=input_shape))\n",
    "model.add(Conv2D(128, (3, 3), activation='relu'))\n",
    "model.add(MaxPooling2D(pool_size=(2, 2)))\n",
    "model.add(Dropout(0.1))\n",
    "model.add(Flatten())\n",
    "model.add(Dense(128, activation='sigmoid'))\n",
    "model.add(Dropout(0.1))\n",
    "model.add(Dense(1, activation='sigmoid'))"
   ]
  },
  {
   "cell_type": "code",
   "execution_count": null,
   "metadata": {},
   "outputs": [],
   "source": [
    "model.compile(optimizer='adam', loss='binary_crossentropy', metrics=['accuracy'])"
   ]
  },
  {
   "cell_type": "code",
   "execution_count": null,
   "metadata": {},
   "outputs": [],
   "source": [
    "model.fit(x_train, y_train, batch_size=batch_size, epochs=epochs, verbose=1)"
   ]
  },
  {
   "cell_type": "code",
   "execution_count": null,
   "metadata": {},
   "outputs": [],
   "source": [
    "del x_train\n",
    "import gc; \n",
    "gc.collect()"
   ]
  },
  {
   "cell_type": "code",
   "execution_count": null,
   "metadata": {},
   "outputs": [],
   "source": [
    "image_file = []\n",
    "for file in os.listdir(\"/test/\"):\n",
    "    image_file.append(file)"
   ]
  },
  {
   "cell_type": "code",
   "execution_count": null,
   "metadata": {},
   "outputs": [],
   "source": [
    "test = pd.DataFrame(image_file,columns=['file'])"
   ]
  },
  {
   "cell_type": "code",
   "execution_count": null,
   "metadata": {},
   "outputs": [],
   "source": [
    "test.head()"
   ]
  },
  {
   "cell_type": "code",
   "execution_count": null,
   "metadata": {},
   "outputs": [],
   "source": [
    "def test_file(x):\n",
    "    folder = '/test/'\n",
    "    path = folder + x\n",
    "    return path"
   ]
  },
  {
   "cell_type": "code",
   "execution_count": null,
   "metadata": {},
   "outputs": [],
   "source": [
    "test['path'] = test['file'].apply(test_file)\n",
    "\n",
    "test['image'] = test['path'][0:].map(imread)\n",
    "test['image_crop'] = test['image'][0:].map(crop)\n",
    "test = test.drop(['image'], axis=1)\n",
    "x_test = np.stack(list(test.image_crop.iloc[0:]), axis = 0)\n",
    "test = test.drop(['image_crop'], axis=1)"
   ]
  },
  {
   "cell_type": "code",
   "execution_count": null,
   "metadata": {},
   "outputs": [],
   "source": [
    "import gc; \n",
    "gc.collect()"
   ]
  },
  {
   "cell_type": "code",
   "execution_count": null,
   "metadata": {},
   "outputs": [],
   "source": [
    "x_test = x_test.astype('float32')\n",
    "x_test /= 255\n",
    "test['id'] = test['file'].apply(lambda x: os.path.splitext(x)[0])"
   ]
  },
  {
   "cell_type": "code",
   "execution_count": null,
   "metadata": {},
   "outputs": [],
   "source": [
    "predictions = model.predict(x_test)\n",
    "predictions = predictions.reshape(len(x_test),)\n",
    "predictions = (predictions > 0.5).astype(np.int)"
   ]
  },
  {
   "cell_type": "code",
   "execution_count": null,
   "metadata": {},
   "outputs": [],
   "source": [
    "test['label'] = pd.Series(predictions)\n",
    "print(\"Cancer:\",len(test['label'][test['label']==1]))\n",
    "print(\"No Cancer:\",len(test['label'][test['label']==0]))\n",
    "test = test.drop(['file','path'], axis=1)\n",
    "test.head()"
   ]
  },
  {
   "cell_type": "code",
   "execution_count": null,
   "metadata": {},
   "outputs": [],
   "source": [
    "test.to_csv(\"submission.csv\", columns = test.columns, index=False)"
   ]
  },
  {
   "cell_type": "code",
   "execution_count": null,
   "metadata": {},
   "outputs": [],
   "source": [
    "## Conclusion\n",
    "#The transfer learning approach using VGG16 yielded an accuracy of X% on the validation set. \n",
    "#While the initial CNN model provided a solid baseline, \n",
    "#leveraging a pre-trained model significantly improved performance. \n",
    "\n",
    "### Key Findings:\n",
    "#The model performed well despite a slight imbalance in the classes. \n",
    "#However, the true positive rate for cancerous tissues could be further improved.\n",
    "#Utilizing VGG16 helped capture more complex patterns, \n",
    "#contributing to a better understanding of the small image patches.\n",
    "\n",
    "### Future Work:\n",
    "#Applying data augmentation techniques could enhance the model's robustness.\n",
    "#Further fine-tuning the pre-trained model could help squeeze out more performance.\n",
    "#Combining the predictions of multiple models (ensemble learning) could further improve accuracy.\n"
   ]
  }
 ],
 "metadata": {
  "kernelspec": {
   "display_name": "Python 3",
   "language": "python",
   "name": "python3"
  },
  "language_info": {
   "codemirror_mode": {
    "name": "ipython",
    "version": 3
   },
   "file_extension": ".py",
   "mimetype": "text/x-python",
   "name": "python",
   "nbconvert_exporter": "python",
   "pygments_lexer": "ipython3",
   "version": "3.7.6"
  }
 },
 "nbformat": 4,
 "nbformat_minor": 4
}
